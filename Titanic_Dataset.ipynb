{
  "nbformat": 4,
  "nbformat_minor": 0,
  "metadata": {
    "colab": {
      "provenance": [],
      "authorship_tag": "ABX9TyMc65xkFuoCwdsCLKZqJBBk",
      "include_colab_link": true
    },
    "kernelspec": {
      "name": "python3",
      "display_name": "Python 3"
    },
    "language_info": {
      "name": "python"
    }
  },
  "cells": [
    {
      "cell_type": "markdown",
      "metadata": {
        "id": "view-in-github",
        "colab_type": "text"
      },
      "source": [
        "<a href=\"https://colab.research.google.com/github/RITABRITA-0407/Logistic-regression/blob/main/Titanic_Dataset.ipynb\" target=\"_parent\"><img src=\"https://colab.research.google.com/assets/colab-badge.svg\" alt=\"Open In Colab\"/></a>"
      ]
    },
    {
      "cell_type": "markdown",
      "source": [
        "# Project 2: Logistic Regression on Titanic Dataset\n",
        "Goal: Predict passenger survival using logistic regression.\n"
      ],
      "metadata": {
        "id": "yPMRT3LnJrLV"
      }
    },
    {
      "cell_type": "code",
      "source": [
        "pip install pandas seaborn scikit-learn matplotlib"
      ],
      "metadata": {
        "id": "9VD6xkDqKCaE"
      },
      "execution_count": null,
      "outputs": []
    },
    {
      "cell_type": "markdown",
      "source": [
        "Step 2: Load and Explore the Dataset"
      ],
      "metadata": {
        "id": "Ayw29HQ6KZTN"
      }
    },
    {
      "cell_type": "code",
      "source": [
        "# Import essential libraries\n",
        "import pandas as pd # Data handling\n",
        "import seaborn as sns # Built-in Titanic dataset and plots\n",
        "import matplotlib.pyplot as plt # Plotting\n",
        "from sklearn.model_selection import train_test_split # Splitting data\n",
        "from sklearn.linear_model import LogisticRegression # Our model\n",
        "from sklearn.metrics import accuracy_score, classification_report, confusion_matrix\n"
      ],
      "metadata": {
        "id": "o1eyZmEJKa3r"
      },
      "execution_count": null,
      "outputs": []
    },
    {
      "cell_type": "code",
      "source": [
        "# Load Titanic dataset from seaborn\n",
        "df = sns.load_dataset('titanic')"
      ],
      "metadata": {
        "id": "OhhsRmQbKrOv"
      },
      "execution_count": null,
      "outputs": []
    },
    {
      "cell_type": "code",
      "source": [
        "# Display the first few rows\n",
        "print(df.head())"
      ],
      "metadata": {
        "id": "_a6pxK4nKvm1"
      },
      "execution_count": null,
      "outputs": []
    },
    {
      "cell_type": "markdown",
      "source": [
        "Step 3: Preprocess the Data"
      ],
      "metadata": {
        "id": "qc6AkruZK5qX"
      }
    },
    {
      "cell_type": "code",
      "source": [
        "# Drop irrelevant or high-missing columns\n",
        "df = df.drop(['deck', 'embark_town', 'alive', 'class', 'who', 'adult_male'], axis=1)\n"
      ],
      "metadata": {
        "id": "oVnX5k0GK-IO"
      },
      "execution_count": null,
      "outputs": []
    },
    {
      "cell_type": "code",
      "source": [
        "# Drop rows with missing values\n",
        "df = df.dropna()"
      ],
      "metadata": {
        "id": "ga-NJ3ytLPAz"
      },
      "execution_count": null,
      "outputs": []
    },
    {
      "cell_type": "code",
      "source": [
        "# Encode categorical variables: sex, embarked\n",
        "df['sex'] = df['sex'].map({'male': 0, 'female': 1})\n",
        "df['embarked'] = df['embarked'].map({'S': 0, 'C': 1, 'Q': 2})"
      ],
      "metadata": {
        "id": "eTV4avoHLR5a"
      },
      "execution_count": null,
      "outputs": []
    },
    {
      "cell_type": "code",
      "source": [
        "# Verify the dataset is clean\n",
        "print(df.info())"
      ],
      "metadata": {
        "id": "Na64_vG0LVdt"
      },
      "execution_count": null,
      "outputs": []
    },
    {
      "cell_type": "markdown",
      "source": [
        "Step 4: Define Features and Target\n"
      ],
      "metadata": {
        "id": "vEuj9iZJLdqR"
      }
    },
    {
      "cell_type": "code",
      "source": [
        "# Choose input features\n",
        "X = df[['pclass', 'sex', 'age', 'sibsp', 'parch', 'fare', 'embarked']]  # Features"
      ],
      "metadata": {
        "id": "s8wrCuhaLetu"
      },
      "execution_count": null,
      "outputs": []
    },
    {
      "cell_type": "code",
      "source": [
        "# Define target variable\n",
        "y = df['survived']  # 1 = survived, 0 = died"
      ],
      "metadata": {
        "id": "Pykj6zXWLlpk"
      },
      "execution_count": null,
      "outputs": []
    },
    {
      "cell_type": "code",
      "source": [
        "X_train, X_test, y_train, y_test = train_test_split(\n",
        "    X, y, test_size=0.2, random_state=42\n",
        ")"
      ],
      "metadata": {
        "id": "ex2fMJrFLpVs"
      },
      "execution_count": null,
      "outputs": []
    },
    {
      "cell_type": "markdown",
      "source": [
        "Step 5: Train the Logistic Regression Model"
      ],
      "metadata": {
        "id": "P9_cZ5f1LxSX"
      }
    },
    {
      "cell_type": "code",
      "source": [
        "# Create the logistic regression model\n",
        "model = LogisticRegression(max_iter=1000)  # Increased iterations to ensure convergence"
      ],
      "metadata": {
        "id": "DvFXzqDGLy6h"
      },
      "execution_count": null,
      "outputs": []
    },
    {
      "cell_type": "code",
      "source": [
        "# Fit the model\n",
        "model.fit(X_train, y_train)\n",
        "# Output the learned coefficients\n",
        "print(\"Model Coefficients:\", model.coef_)\n",
        "print(\"Model Intercept:\", model.intercept_)"
      ],
      "metadata": {
        "id": "jWr4vfb3L3VM"
      },
      "execution_count": null,
      "outputs": []
    },
    {
      "cell_type": "markdown",
      "source": [
        "Step 6: Evaluate the Model"
      ],
      "metadata": {
        "id": "nbALdIIkMKXk"
      }
    },
    {
      "cell_type": "code",
      "source": [
        "# Predict on test data\n",
        "y_pred = model.predict(X_test)"
      ],
      "metadata": {
        "id": "L4g4lckxMMQV"
      },
      "execution_count": null,
      "outputs": []
    },
    {
      "cell_type": "code",
      "source": [
        "# accuracy score\n",
        "print(\"Accuracy:\", accuracy_score(y_test, y_pred))"
      ],
      "metadata": {
        "id": "e7p-iD-uMRKU"
      },
      "execution_count": null,
      "outputs": []
    },
    {
      "cell_type": "code",
      "source": [
        "# Classification report\n",
        "print(\"\\nClassification Report:\\n\", classification_report(y_test, y_pred))"
      ],
      "metadata": {
        "id": "KtIaEZ5nMVrz"
      },
      "execution_count": null,
      "outputs": []
    },
    {
      "cell_type": "code",
      "source": [
        "# Confusion matrix visualization\n",
        "sns.heatmap(confusion_matrix(y_test, y_pred), annot=True, fmt='d', cmap='Blues')\n",
        "plt.title(\"Confusion Matrix\")\n",
        "plt.xlabel(\"Predicted\")\n",
        "plt.ylabel(\"Actual\")\n",
        "plt.show()"
      ],
      "metadata": {
        "id": "ZPn5j6saMgzR"
      },
      "execution_count": null,
      "outputs": []
    }
  ]
}